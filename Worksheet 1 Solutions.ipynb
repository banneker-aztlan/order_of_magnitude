{
 "cells": [
  {
   "cell_type": "code",
   "execution_count": 1,
   "metadata": {
    "collapsed": true
   },
   "outputs": [],
   "source": [
    "import numpy as np\n",
    "import matplotlib.pyplot as plt\n",
    "%matplotlib inline"
   ]
  },
  {
   "cell_type": "code",
   "execution_count": 2,
   "metadata": {
    "collapsed": true
   },
   "outputs": [],
   "source": [
    "#define constants here (SI units)\n",
    "h = 6.626e-34 #Planck's constant \n",
    "c =2.998e8 #speed of light in vacuum\n",
    "k = 1.38e-23 #Boltzmann's constant"
   ]
  },
  {
   "cell_type": "markdown",
   "metadata": {},
   "source": [
    "## Exercise 1\n",
    "This can be worked out with Taylor series error formulae, but it's nice to visualize the answers "
   ]
  },
  {
   "cell_type": "code",
   "execution_count": 12,
   "metadata": {
    "collapsed": false
   },
   "outputs": [
    {
     "data": {
      "image/png": "[encoded data removed]",
      "text/plain": [
       "<matplotlib.figure.Figure at 0x7f258a67ecd0>"
      ]
     },
     "metadata": {},
     "output_type": "display_data"
    }
   ],
   "source": [
    "xvals = np.linspace(0, 0.3, num = 100)\n",
    "plt.figure()\n",
    "plt.plot(xvals, (np.exp(xvals)-(1+xvals))/np.exp(xvals))\n",
    "plt.ylabel('Relative error')\n",
    "plt.xlabel('x')\n",
    "plt.title('Fractional error of linear approximation for $e^x$')\n",
    "plt.show()"
   ]
  },
  {
   "cell_type": "markdown",
   "metadata": {},
   "source": [
    "So we see that when $x\\sim0.15$, the relative difference between $e^x$ and $1+x$ starts to grow larger than $1\\%$. In terms of the Rayleigh-Jeans approximation, we would then want $\\nu< 0.15kT/h$. Keep in mind though, the relative error in the approximation for $B_\\nu$ is larger than the relative error in the approximation for $e^{h\\nu/kT}$."
   ]
  },
  {
   "cell_type": "markdown",
   "metadata": {},
   "source": [
    "For $T = 100$ K, the upper limit is about 300 GHz. "
   ]
  },
  {
   "cell_type": "code",
   "execution_count": 14,
   "metadata": {
    "collapsed": false
   },
   "outputs": [
    {
     "data": {
      "text/plain": [
       "312405674615.15247"
      ]
     },
     "execution_count": 14,
     "metadata": {},
     "output_type": "execute_result"
    }
   ],
   "source": [
    "0.15*k*100/h"
   ]
  },
  {
   "cell_type": "markdown",
   "metadata": {},
   "source": [
    "For $T = 1000$ K, the upper limit is about 3000 GHz (or 3 THz). Note that the Rayleigh-Jeans approximation is often referred to as being the \"low-frequency limit\" of the Planck Law, but there's a temperature dependence too!"
   ]
  },
  {
   "cell_type": "markdown",
   "metadata": {},
   "source": [
    "## Exercise 2"
   ]
  },
  {
   "cell_type": "code",
   "execution_count": 22,
   "metadata": {
    "collapsed": true
   },
   "outputs": [],
   "source": [
    "def Planck(nu, T):\n",
    "    return 2*h*nu**3/c**2*1/(np.exp(h*nu/(k*T))-1)\n",
    "\n",
    "def RJ(nu, T):\n",
    "    return 2*nu**2*k*T/c**2"
   ]
  },
  {
   "cell_type": "code",
   "execution_count": 23,
   "metadata": {
    "collapsed": false
   },
   "outputs": [
    {
     "name": "stdout",
     "output_type": "stream",
     "text": [
      "3.07002250224e-20\n",
      "3.07075964808e-20\n"
     ]
    }
   ],
   "source": [
    "#verifying that we are in the Rayleigh-Jeans region for these example values of nu and T\n",
    "print Planck(1e9, 100.)\n",
    "print RJ(1e9, 100.)"
   ]
  },
  {
   "cell_type": "code",
   "execution_count": 15,
   "metadata": {
    "collapsed": false
   },
   "outputs": [
    {
     "name": "stdout",
     "output_type": "stream",
     "text": [
      "The slowest run took 37.90 times longer than the fastest. This could mean that an intermediate result is being cached.\n",
      "1000000 loops, best of 3: 1.4 µs per loop\n"
     ]
    }
   ],
   "source": [
    "%timeit Planck(1e9, 100.)"
   ]
  },
  {
   "cell_type": "code",
   "execution_count": 16,
   "metadata": {
    "collapsed": false
   },
   "outputs": [
    {
     "name": "stdout",
     "output_type": "stream",
     "text": [
      "The slowest run took 25.65 times longer than the fastest. This could mean that an intermediate result is being cached.\n",
      "1000000 loops, best of 3: 316 ns per loop\n"
     ]
    }
   ],
   "source": [
    "%timeit RJ(1e9, 100.)"
   ]
  },
  {
   "cell_type": "markdown",
   "metadata": {},
   "source": [
    "We see that the Rayleigh-Jeans formulation is an order of magnitude faster to compute than the full Planck law"
   ]
  },
  {
   "cell_type": "code",
   "execution_count": null,
   "metadata": {
    "collapsed": true
   },
   "outputs": [],
   "source": []
  }
 ],
 "metadata": {
  "anaconda-cloud": {},
  "kernelspec": {
   "display_name": "Python [default]",
   "language": "python",
   "name": "python2"
  },
  "language_info": {
   "codemirror_mode": {
    "name": "ipython",
    "version": 2
   },
   "file_extension": ".py",
   "mimetype": "text/x-python",
   "name": "python",
   "nbconvert_exporter": "python",
   "pygments_lexer": "ipython2",
   "version": "2.7.12"
  }
 },
 "nbformat": 4,
 "nbformat_minor": 1
}
